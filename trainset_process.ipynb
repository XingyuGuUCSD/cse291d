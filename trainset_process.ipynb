{
 "cells": [
  {
   "cell_type": "code",
   "execution_count": 1,
   "metadata": {},
   "outputs": [],
   "source": [
    "import os\n",
    "import shutil"
   ]
  },
  {
   "cell_type": "code",
   "execution_count": 6,
   "metadata": {},
   "outputs": [],
   "source": [
    "folder_path = \"./dataset/lfw_mtcnnpy_gray_picked_10_8\""
   ]
  },
  {
   "cell_type": "code",
   "execution_count": 7,
   "metadata": {},
   "outputs": [
    {
     "name": "stdout",
     "output_type": "stream",
     "text": [
      "Colin_Montgomerie\n",
      "folder_num:  422\n",
      "pic_num_sum 41113\n"
     ]
    }
   ],
   "source": [
    "folder_num = 0\n",
    "pic_num = []\n",
    "for folder in os.listdir(folder_path):\n",
    "    file_num = 0\n",
    "    for file_ in os.listdir(folder_path + \"/\" + folder):\n",
    "        file_num += 1\n",
    "\n",
    "    if file_num < 30:\n",
    "        #shutil.rmtree(folder_path + \"/\" + folder)\n",
    "        print folder\n",
    "    else:\n",
    "        folder_num += 1\n",
    "        pic_num.append(file_num)\n",
    "print \"folder_num: \", folder_num\n",
    "print \"pic_num_sum\", sum(pic_num)"
   ]
  },
  {
   "cell_type": "code",
   "execution_count": 9,
   "metadata": {},
   "outputs": [],
   "source": [
    "folder_path_train_valid = \"./dataset/lfw_mtcnnpy_gray_picked_10_8_train_valid\"\n",
    "valid_folder = folder_path_train_valid + \"/valid\"\n",
    "train_folder = folder_path_train_valid + \"/train\""
   ]
  },
  {
   "cell_type": "code",
   "execution_count": 10,
   "metadata": {},
   "outputs": [],
   "source": [
    "import random\n",
    "for folder in os.listdir(folder_path):\n",
    "    file_num = 0\n",
    "    file_list = []\n",
    "    for file_ in os.listdir(folder_path + \"/\" + folder):\n",
    "        file_num += 1\n",
    "        file_list.append(folder_path + \"/\" + folder + \"/\" + file_)\n",
    "    \n",
    "    train_num = int(file_num * 0.9)\n",
    "    valid_num = file_num - train_num\n",
    "\n",
    "#     print \"file_list's length: \", len(file_list)\n",
    "#     print \"valid_num: \", valid_num\n",
    "#     print \"train_num: \", train_num\n",
    "    \n",
    "    valid_list = random.sample(file_list, valid_num)\n",
    "    train_list = []\n",
    "    for ele in file_list:\n",
    "        if ele not in valid_list:\n",
    "            train_list.append(ele)\n",
    "\n",
    "# if not os.path.exists(valid_folder):\n",
    "#     os.makedirs(valid_folder)\n",
    "# if not os.path.exists(train_folder):\n",
    "#     os.makedirs(train_folder)\n",
    "\n",
    "    for path in valid_list:\n",
    "        folder_name = path.split(\"/\")[-2]\n",
    "        pic_name = path.split(\"/\")[-1]\n",
    "        folder_ = valid_folder + \"/\" + folder_name\n",
    "        if not os.path.exists(folder_):\n",
    "            os.makedirs(folder_)\n",
    "        shutil.move(path, valid_folder + \"/\" + folder_name + \"/\" + pic_name)\n",
    "\n",
    "    for path in train_list:\n",
    "        folder_name = path.split(\"/\")[-2]\n",
    "        pic_name = path.split(\"/\")[-1]\n",
    "        folder_ = train_folder + \"/\" + folder_name\n",
    "        if not os.path.exists(folder_):\n",
    "            os.makedirs(folder_)\n",
    "        shutil.move(path, train_folder + \"/\" + folder_name + \"/\" + pic_name)\n",
    "\n",
    "    "
   ]
  },
  {
   "cell_type": "code",
   "execution_count": null,
   "metadata": {},
   "outputs": [],
   "source": []
  }
 ],
 "metadata": {
  "kernelspec": {
   "display_name": "Python 2",
   "language": "python",
   "name": "python2"
  },
  "language_info": {
   "codemirror_mode": {
    "name": "ipython",
    "version": 2
   },
   "file_extension": ".py",
   "mimetype": "text/x-python",
   "name": "python",
   "nbconvert_exporter": "python",
   "pygments_lexer": "ipython2",
   "version": "2.7.14"
  }
 },
 "nbformat": 4,
 "nbformat_minor": 2
}
