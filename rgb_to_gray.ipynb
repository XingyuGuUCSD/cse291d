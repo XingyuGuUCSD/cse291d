{
 "cells": [
  {
   "cell_type": "code",
   "execution_count": 1,
   "metadata": {},
   "outputs": [],
   "source": [
    "import os\n",
    "import numpy as np\n",
    "from PIL import Image\n",
    "import matplotlib.pyplot as plt\n",
    "import matplotlib.image as mpimg"
   ]
  },
  {
   "cell_type": "code",
   "execution_count": 2,
   "metadata": {},
   "outputs": [],
   "source": [
    "def rgb2gray(rgb):\n",
    "    return np.dot(rgb[...,:3], [0.299, 0.587, 0.114])"
   ]
  },
  {
   "cell_type": "code",
   "execution_count": 3,
   "metadata": {},
   "outputs": [
    {
     "name": "stdout",
     "output_type": "stream",
     "text": [
      "1000\n",
      "2000\n",
      "3000\n",
      "4000\n",
      "5000\n",
      "6000\n",
      "7000\n",
      "8000\n",
      "9000\n",
      "10000\n",
      "11000\n",
      "12000\n",
      "13000\n"
     ]
    }
   ],
   "source": [
    "lfw_rgb_folder = \"./dataset/lfw_mtcnnpy_160\"\n",
    "lfw_gray_folder = \"./dataset/lfw_mtcnnpy_160_gray_0323_night\"\n",
    "cnt = 0\n",
    "for folder in os.listdir(lfw_rgb_folder):\n",
    "    if \".txt\" in folder or \".DS_Store\" in folder:\n",
    "        continue\n",
    "    for file_ in os.listdir(lfw_rgb_folder + \"/\" + folder):\n",
    "        cnt += 1\n",
    "        if cnt % 1000 == 0:\n",
    "            print cnt\n",
    "        file_path = lfw_rgb_folder + \"/\" + folder + \"/\" + file_\n",
    "        img = mpimg.imread(file_path)     \n",
    "        gray = rgb2gray(img) * 255.0\n",
    "        rescaled = gray.astype(np.uint8)\n",
    "        im = Image.fromarray(rescaled)\n",
    "        gray_folder_path = lfw_gray_folder + \"/\" + folder\n",
    "        if not os.path.exists(gray_folder_path):\n",
    "            os.makedirs(gray_folder_path)\n",
    "        im.save(gray_folder_path + \"/\" + file_)\n",
    "    "
   ]
  },
  {
   "cell_type": "code",
   "execution_count": 23,
   "metadata": {},
   "outputs": [
    {
     "name": "stdout",
     "output_type": "stream",
     "text": [
      "423\n"
     ]
    }
   ],
   "source": [
    "list_person_with_five_image = []\n",
    "cnt_list = []\n",
    "for folder in os.listdir(lfw_gray_folder):\n",
    "    cnt = 0 \n",
    "    for file_ in os.listdir(lfw_rgb_folder + \"/\" + folder):\n",
    "        cnt += 1\n",
    "    if cnt >= 5:\n",
    "        cnt_list.append(cnt)\n",
    "        #print folder + \": \" + str(cnt)\n",
    "        list_person_with_five_image.append(folder)\n",
    "print len(list_person_with_five_image)"
   ]
  },
  {
   "cell_type": "code",
   "execution_count": 24,
   "metadata": {},
   "outputs": [
    {
     "name": "stdout",
     "output_type": "stream",
     "text": [
      "5\n",
      "530\n"
     ]
    }
   ],
   "source": [
    "print min(cnt_list)\n",
    "print max(cnt_list)"
   ]
  },
  {
   "cell_type": "code",
   "execution_count": 22,
   "metadata": {},
   "outputs": [],
   "source": [
    "import shutil\n",
    "lfw_target_path = \"./dataset/lfw_mtcnnpy_gray_picked_10_8\"\n",
    "for folder in list_person_with_five_image:\n",
    "    shutil.copytree(lfw_gray_folder + \"/\" + folder, lfw_target_path + \"/\" + folder)"
   ]
  },
  {
   "cell_type": "code",
   "execution_count": null,
   "metadata": {},
   "outputs": [],
   "source": []
  }
 ],
 "metadata": {
  "kernelspec": {
   "display_name": "Python 2",
   "language": "python",
   "name": "python2"
  },
  "language_info": {
   "codemirror_mode": {
    "name": "ipython",
    "version": 2
   },
   "file_extension": ".py",
   "mimetype": "text/x-python",
   "name": "python",
   "nbconvert_exporter": "python",
   "pygments_lexer": "ipython2",
   "version": "2.7.14"
  }
 },
 "nbformat": 4,
 "nbformat_minor": 2
}
